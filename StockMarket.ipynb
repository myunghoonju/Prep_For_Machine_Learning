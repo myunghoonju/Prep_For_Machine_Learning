{
  "nbformat": 4,
  "nbformat_minor": 0,
  "metadata": {
    "kernelspec": {
      "display_name": "Python 3.6 (tensorflow)",
      "language": "python",
      "name": "tensorflow"
    },
    "language_info": {
      "codemirror_mode": {
        "name": "ipython",
        "version": 3
      },
      "file_extension": ".py",
      "mimetype": "text/x-python",
      "name": "python",
      "nbconvert_exporter": "python",
      "pygments_lexer": "ipython3",
      "version": "3.6.8"
    },
    "colab": {
      "name": "StockMarket.ipynb",
      "provenance": [],
      "collapsed_sections": []
    },
    "accelerator": "GPU"
  },
  "cells": [
    {
      "cell_type": "code",
      "metadata": {
        "id": "ukIUZ-L5yMpr",
        "colab_type": "code",
        "colab": {
          "base_uri": "https://localhost:8080/",
          "height": 121
        },
        "outputId": "9efd74ad-5247-4985-947c-96664ad5a141"
      },
      "source": [
        "from google.colab import drive\n",
        "drive.mount('/content/drive')"
      ],
      "execution_count": 1,
      "outputs": [
        {
          "output_type": "stream",
          "text": [
            "Go to this URL in a browser: https://accounts.google.com/o/oauth2/auth?client_id=947318989803-6bn6qk8qdgf4n4g3pfee6491hc0brc4i.apps.googleusercontent.com&redirect_uri=urn%3aietf%3awg%3aoauth%3a2.0%3aoob&response_type=code&scope=email%20https%3a%2f%2fwww.googleapis.com%2fauth%2fdocs.test%20https%3a%2f%2fwww.googleapis.com%2fauth%2fdrive%20https%3a%2f%2fwww.googleapis.com%2fauth%2fdrive.photos.readonly%20https%3a%2f%2fwww.googleapis.com%2fauth%2fpeopleapi.readonly\n",
            "\n",
            "Enter your authorization code:\n",
            "··········\n",
            "Mounted at /content/drive\n"
          ],
          "name": "stdout"
        }
      ]
    },
    {
      "cell_type": "code",
      "metadata": {
        "id": "FZjEyvzZynWb",
        "colab_type": "code",
        "colab": {}
      },
      "source": [
        "import pandas as pd\n",
        "import numpy as np\n",
        "import matplotlib.pyplot as plt\n",
        "%matplotlib inline\n"
      ],
      "execution_count": 0,
      "outputs": []
    },
    {
      "cell_type": "code",
      "metadata": {
        "id": "o6cMQ0fKy_BV",
        "colab_type": "code",
        "colab": {}
      },
      "source": [
        "from matplotlib.pylab import rcParams\n",
        "rcParams['figure.figsize'] = 20,10\n",
        "\n",
        "from sklearn.preprocessing import MinMaxScaler\n",
        "scaler = MinMaxScaler(feature_range=(0,1))"
      ],
      "execution_count": 0,
      "outputs": []
    },
    {
      "cell_type": "code",
      "metadata": {
        "id": "5yuYPg3yzJgz",
        "colab_type": "code",
        "colab": {}
      },
      "source": [
        "df = pd.read_csv('stockdata.csv')"
      ],
      "execution_count": 0,
      "outputs": []
    },
    {
      "cell_type": "code",
      "metadata": {
        "id": "xp2sKS0t4OAr",
        "colab_type": "code",
        "colab": {
          "base_uri": "https://localhost:8080/",
          "height": 252
        },
        "outputId": "a48b036e-1a29-4cdf-dedc-69194db8c974"
      },
      "source": [
        "print(df)"
      ],
      "execution_count": 8,
      "outputs": [
        {
          "output_type": "stream",
          "text": [
            "            Date    Open    High  ...   Close  Total Trade Quantity  Turnover (Lacs)\n",
            "0     2018-10-08  208.00  222.25  ...  215.15             4642146.0         10062.83\n",
            "1     2018-10-05  217.00  218.60  ...  209.20             3519515.0          7407.06\n",
            "2     2018-10-04  223.50  227.80  ...  218.20             1728786.0          3815.79\n",
            "3     2018-10-03  230.00  237.50  ...  227.60             1708590.0          3960.27\n",
            "4     2018-10-01  234.55  234.60  ...  230.90             1534749.0          3486.05\n",
            "...          ...     ...     ...  ...     ...                   ...              ...\n",
            "1230  2013-10-14  160.85  161.45  ...  159.45             1281419.0          2039.09\n",
            "1231  2013-10-11  161.15  163.45  ...  160.05             1880046.0          3030.76\n",
            "1232  2013-10-10  156.00  160.80  ...  160.15             3124853.0          4978.80\n",
            "1233  2013-10-09  155.70  158.20  ...  155.55             2049580.0          3204.49\n",
            "1234  2013-10-08  157.00  157.80  ...  155.80             1720413.0          2688.94\n",
            "\n",
            "[1235 rows x 8 columns]\n"
          ],
          "name": "stdout"
        }
      ]
    },
    {
      "cell_type": "code",
      "metadata": {
        "id": "fOLjN25445Ex",
        "colab_type": "code",
        "colab": {}
      },
      "source": [
        "#setting index as date\n",
        "df['Date'] = pd.to_datetime(df.Date,format = '%Y-%m-%d')\n",
        "df.index = df['Date']"
      ],
      "execution_count": 0,
      "outputs": []
    },
    {
      "cell_type": "code",
      "metadata": {
        "id": "WEstLB8j5IO1",
        "colab_type": "code",
        "colab": {
          "base_uri": "https://localhost:8080/",
          "height": 282
        },
        "outputId": "d600dee0-5ff3-4f6a-b41a-5b39523115db"
      },
      "source": [
        "plt.figure(figsize=(4,4))\n",
        "plt.plot(df['Close'],label = 'Close Price History')"
      ],
      "execution_count": 12,
      "outputs": [
        {
          "output_type": "execute_result",
          "data": {
            "text/plain": [
              "[<matplotlib.lines.Line2D at 0x7fc5a558d358>]"
            ]
          },
          "metadata": {
            "tags": []
          },
          "execution_count": 12
        },
        {
          "output_type": "display_data",
          "data": {
            "image/png": "[encoded data removed]",
            "text/plain": [
              "<Figure size 288x288 with 1 Axes>"
            ]
          },
          "metadata": {
            "tags": []
          }
        }
      ]
    },
    {
      "cell_type": "code",
      "metadata": {
        "id": "5RkhVAep5e7M",
        "colab_type": "code",
        "colab": {}
      },
      "source": [
        "#Create dataFrame with date & traget var\n",
        "data = df.sort_index(ascending=True)\n",
        "new_data = pd.DataFrame(index=range(0,len(df)),columns=['Date','Close'])\n",
        "\n",
        "for i in range(0,len(data)):\n",
        "  new_data['Date'][i] = data['Date'][i]\n",
        "  new_data['Close'][i] = data['Close'][i]\n",
        "\n",
        "train = new_data[:987]\n",
        "valid = new_data[987:]"
      ],
      "execution_count": 0,
      "outputs": []
    },
    {
      "cell_type": "code",
      "metadata": {
        "id": "X6zh93bK7ZO2",
        "colab_type": "code",
        "colab": {
          "base_uri": "https://localhost:8080/",
          "height": 118
        },
        "outputId": "f8badfb6-7e7e-4552-8675-235230f51ca3"
      },
      "source": [
        "print('\\n Shape of training set: ')\n",
        "print(train.shape)\n",
        "print('\\n Shape of validation set: ')\n",
        "print(valid.shape)"
      ],
      "execution_count": 14,
      "outputs": [
        {
          "output_type": "stream",
          "text": [
            "\n",
            " Shape of training set: \n",
            "(987, 2)\n",
            "\n",
            " Shape of validation set: \n",
            "(248, 2)\n"
          ],
          "name": "stdout"
        }
      ]
    },
    {
      "cell_type": "code",
      "metadata": {
        "id": "tfelxU3w7qQa",
        "colab_type": "code",
        "colab": {}
      },
      "source": [
        "#making pred\n",
        "preds = []\n",
        "for i in range(0,valid.shape[0]):\n",
        "  a = train['Close'][len(train)-248+i:].sum() + sum(preds)\n",
        "  b = a/248\n",
        "  preds.append(b)"
      ],
      "execution_count": 0,
      "outputs": []
    },
    {
      "cell_type": "code",
      "metadata": {
        "id": "mENla5sb8A9h",
        "colab_type": "code",
        "colab": {}
      },
      "source": [
        "#check the result(RMSE)\n",
        "rms = np.sqrt(np.mean(np.power((np.array(valid['Close'])-preds),2)))"
      ],
      "execution_count": 0,
      "outputs": []
    },
    {
      "cell_type": "code",
      "metadata": {
        "id": "vjLtgex_8WVW",
        "colab_type": "code",
        "colab": {
          "base_uri": "https://localhost:8080/",
          "height": 67
        },
        "outputId": "7b73ff8d-9f3c-4de9-b679-2fb21fc6a6d2"
      },
      "source": [
        "print('\\n RMSE value on validation set: ')\n",
        "print(rms)"
      ],
      "execution_count": 17,
      "outputs": [
        {
          "output_type": "stream",
          "text": [
            "\n",
            " RMSE value on validation set: \n",
            "104.51415465984348\n"
          ],
          "name": "stdout"
        }
      ]
    },
    {
      "cell_type": "code",
      "metadata": {
        "id": "iWfSBA-78g2b",
        "colab_type": "code",
        "colab": {
          "base_uri": "https://localhost:8080/",
          "height": 238
        },
        "outputId": "a5db93af-50e4-479f-f3d0-a82f32a813e1"
      },
      "source": [
        "valid['Predictions'] = 0\n",
        "valid['Predictions'] = preds"
      ],
      "execution_count": 18,
      "outputs": [
        {
          "output_type": "stream",
          "text": [
            "/usr/local/lib/python3.6/dist-packages/ipykernel_launcher.py:1: SettingWithCopyWarning: \n",
            "A value is trying to be set on a copy of a slice from a DataFrame.\n",
            "Try using .loc[row_indexer,col_indexer] = value instead\n",
            "\n",
            "See the caveats in the documentation: http://pandas.pydata.org/pandas-docs/stable/user_guide/indexing.html#returning-a-view-versus-a-copy\n",
            "  \"\"\"Entry point for launching an IPython kernel.\n",
            "/usr/local/lib/python3.6/dist-packages/ipykernel_launcher.py:2: SettingWithCopyWarning: \n",
            "A value is trying to be set on a copy of a slice from a DataFrame.\n",
            "Try using .loc[row_indexer,col_indexer] = value instead\n",
            "\n",
            "See the caveats in the documentation: http://pandas.pydata.org/pandas-docs/stable/user_guide/indexing.html#returning-a-view-versus-a-copy\n",
            "  \n"
          ],
          "name": "stderr"
        }
      ]
    },
    {
      "cell_type": "code",
      "metadata": {
        "id": "JLftVnI_9hXv",
        "colab_type": "code",
        "colab": {
          "base_uri": "https://localhost:8080/",
          "height": 218
        },
        "outputId": "ec9af76a-daa7-40e5-c9db-822711fa107f"
      },
      "source": [
        "valid['Predictions']"
      ],
      "execution_count": 20,
      "outputs": [
        {
          "output_type": "execute_result",
          "data": {
            "text/plain": [
              "987     152.306452\n",
              "988     152.310711\n",
              "989     152.313376\n",
              "990     152.331373\n",
              "991     152.327871\n",
              "           ...    \n",
              "1230    163.132287\n",
              "1231    162.960239\n",
              "1232    162.784877\n",
              "1233    162.614857\n",
              "1234    162.426005\n",
              "Name: Predictions, Length: 248, dtype: float64"
            ]
          },
          "metadata": {
            "tags": []
          },
          "execution_count": 20
        }
      ]
    },
    {
      "cell_type": "code",
      "metadata": {
        "id": "AjTYvTTI94Hg",
        "colab_type": "code",
        "colab": {
          "base_uri": "https://localhost:8080/",
          "height": 1000
        },
        "outputId": "2b2f97e8-5f00-49c7-a4cb-5d1f019f141c"
      },
      "source": [
        "preds"
      ],
      "execution_count": 21,
      "outputs": [
        {
          "output_type": "execute_result",
          "data": {
            "text/plain": [
              "[152.30645161290326,\n",
              " 152.31071149843913,\n",
              " 152.31337565770704,\n",
              " 152.3313731401978,\n",
              " 152.32787061253734,\n",
              " 152.33624912307175,\n",
              " 152.3380081921164,\n",
              " 152.3288872574072,\n",
              " 152.3288021253806,\n",
              " 152.32811181137,\n",
              " 152.32116871383522,\n",
              " 152.33052826510067,\n",
              " 152.35847394358896,\n",
              " 152.41737908045826,\n",
              " 152.4676507702988,\n",
              " 152.5203429105016,\n",
              " 152.57647332546333,\n",
              " 152.64754781467886,\n",
              " 152.73342502360907,\n",
              " 152.83779367289785,\n",
              " 152.93794606674018,\n",
              " 153.0407200428157,\n",
              " 153.1662874623432,\n",
              " 153.2782482988849,\n",
              " 153.41787833234815,\n",
              " 153.56472461594632,\n",
              " 153.69482431197838,\n",
              " 153.83633570033314,\n",
              " 153.97236931202804,\n",
              " 154.12689499473782,\n",
              " 154.27539053907148,\n",
              " 154.42307356543867,\n",
              " 154.58163434594448,\n",
              " 154.72712480701682,\n",
              " 154.8633228909161,\n",
              " 154.99603790257305,\n",
              " 155.12162676508342,\n",
              " 155.25558493752325,\n",
              " 155.39149455420682,\n",
              " 155.51948445160284,\n",
              " 155.6489985018109,\n",
              " 155.78347026996337,\n",
              " 155.9122342629874,\n",
              " 156.04131585275752,\n",
              " 156.17313567474443,\n",
              " 156.3054870282716,\n",
              " 156.44079141145014,\n",
              " 156.5697865381092,\n",
              " 156.69990664511772,\n",
              " 156.83055142997708,\n",
              " 156.97402139542052,\n",
              " 157.11665857846657,\n",
              " 157.26874187918622,\n",
              " 157.4236561609571,\n",
              " 157.58665477450936,\n",
              " 157.73599612440657,\n",
              " 157.8897703023276,\n",
              " 158.03811615032083,\n",
              " 158.18343113479793,\n",
              " 158.3230820667931,\n",
              " 158.45966707512693,\n",
              " 158.59680282946212,\n",
              " 158.73146735700027,\n",
              " 158.8688926286011,\n",
              " 159.0064688085551,\n",
              " 159.1458094085896,\n",
              " 159.27321186588233,\n",
              " 159.41080546211572,\n",
              " 159.5360506454307,\n",
              " 159.6646234302913,\n",
              " 159.79391626670375,\n",
              " 159.9194965742308,\n",
              " 160.03812357654624,\n",
              " 160.17376117161294,\n",
              " 160.30389730536947,\n",
              " 160.43234043966532,\n",
              " 160.56170471563172,\n",
              " 160.68816320238827,\n",
              " 160.81009127981727,\n",
              " 160.93896261562296,\n",
              " 161.06331327133114,\n",
              " 161.1577217925865,\n",
              " 161.2355755094921,\n",
              " 161.31011412041747,\n",
              " 161.3893887741288,\n",
              " 161.45083792241158,\n",
              " 161.52160743016324,\n",
              " 161.59246068593,\n",
              " 161.67166415643783,\n",
              " 161.75421118932664,\n",
              " 161.84697010541265,\n",
              " 161.934659500999,\n",
              " 162.02250086995463,\n",
              " 162.1048496637851,\n",
              " 162.18753050920358,\n",
              " 162.27699635803103,\n",
              " 162.36984714979727,\n",
              " 162.46448363023998,\n",
              " 162.56292912874903,\n",
              " 162.6393925526553,\n",
              " 162.7262449419805,\n",
              " 162.80437496190785,\n",
              " 162.88322324804457,\n",
              " 162.96440559985123,\n",
              " 163.05135884823773,\n",
              " 163.14108206939994,\n",
              " 163.24608643258304,\n",
              " 163.34183678110153,\n",
              " 163.43232805844468,\n",
              " 163.50786163932548,\n",
              " 163.5832965652905,\n",
              " 163.65238243853767,\n",
              " 163.7239646257898,\n",
              " 163.80712577347447,\n",
              " 163.8563480548191,\n",
              " 163.90758332923372,\n",
              " 163.96930745556125,\n",
              " 164.02341756626916,\n",
              " 164.07754425000414,\n",
              " 164.13370370262513,\n",
              " 164.18847670142603,\n",
              " 164.238027010706,\n",
              " 164.28475292607172,\n",
              " 164.33005434916072,\n",
              " 164.38541747153636,\n",
              " 164.43959254198612,\n",
              " 164.48410702804253,\n",
              " 164.53545423380075,\n",
              " 164.59204880732415,\n",
              " 164.65310545574076,\n",
              " 164.71965023580427,\n",
              " 164.7781972125615,\n",
              " 164.82911736261218,\n",
              " 164.88367025520336,\n",
              " 164.93582215139372,\n",
              " 164.98919240200414,\n",
              " 165.03451172620578,\n",
              " 165.08666701542438,\n",
              " 165.13500035016395,\n",
              " 165.1649801902856,\n",
              " 165.2011293039561,\n",
              " 165.24085159953657,\n",
              " 165.29303245276054,\n",
              " 165.34421403523132,\n",
              " 165.38975522085724,\n",
              " 165.43225423384453,\n",
              " 165.4783520331746,\n",
              " 165.5300792591148,\n",
              " 165.57415215935313,\n",
              " 165.61900761160862,\n",
              " 165.67049554552636,\n",
              " 165.74376367272612,\n",
              " 165.80926271979354,\n",
              " 165.88188071463142,\n",
              " 165.96708991106138,\n",
              " 166.06494108005762,\n",
              " 166.15774326183202,\n",
              " 166.23539545240394,\n",
              " 166.31940914374428,\n",
              " 166.40315676125937,\n",
              " 166.47171787723218,\n",
              " 166.52845867512423,\n",
              " 166.57554923429814,\n",
              " 166.62242644895258,\n",
              " 166.67735558785964,\n",
              " 166.72222395716554,\n",
              " 166.77110389247667,\n",
              " 166.8209873759141,\n",
              " 166.88034619597823,\n",
              " 166.92240404354268,\n",
              " 166.9565669630731,\n",
              " 166.98824666856936,\n",
              " 167.02368314707167,\n",
              " 167.06652057911631,\n",
              " 167.10771622661275,\n",
              " 167.14927959849425,\n",
              " 167.19927669364947,\n",
              " 167.26399151902712,\n",
              " 167.3442898719264,\n",
              " 167.41765394399062,\n",
              " 167.493934806668,\n",
              " 167.56185389863035,\n",
              " 167.62621621273777,\n",
              " 167.69708805230525,\n",
              " 167.74364889122586,\n",
              " 167.8016877980453,\n",
              " 167.84221879723094,\n",
              " 167.8474293568972,\n",
              " 167.84076576559437,\n",
              " 167.8169382081976,\n",
              " 167.78636134613387,\n",
              " 167.7604998999489,\n",
              " 167.7232438511584,\n",
              " 167.69894241507436,\n",
              " 167.66889782803835,\n",
              " 167.6542562870224,\n",
              " 167.63592667527652,\n",
              " 167.6263941215478,\n",
              " 167.61218603332821,\n",
              " 167.59368678346263,\n",
              " 167.59043552049275,\n",
              " 167.5841469540431,\n",
              " 167.57622012724488,\n",
              " 167.57652746646764,\n",
              " 167.5865134643163,\n",
              " 167.5902897282853,\n",
              " 167.59488767073807,\n",
              " 167.58337512102332,\n",
              " 167.58975969812423,\n",
              " 167.61189582593926,\n",
              " 167.65871798652768,\n",
              " 167.67266443002177,\n",
              " 167.62799775433638,\n",
              " 167.52226387431355,\n",
              " 167.42920848671,\n",
              " 167.32045529512413,\n",
              " 167.20420713099156,\n",
              " 167.11289345006816,\n",
              " 166.99419543978615,\n",
              " 166.88429300204336,\n",
              " 166.77777805447096,\n",
              " 166.68272877243254,\n",
              " 166.5602800981278,\n",
              " 166.43350703400736,\n",
              " 166.30783569140257,\n",
              " 166.19899631919048,\n",
              " 166.0760084011227,\n",
              " 165.91522617693366,\n",
              " 165.75460208893742,\n",
              " 165.58869322639282,\n",
              " 165.41263957004762,\n",
              " 165.22458569734616,\n",
              " 165.05492676870642,\n",
              " 164.86543050567704,\n",
              " 164.6812185319096,\n",
              " 164.48517505824796,\n",
              " 164.2766475383215,\n",
              " 164.0773598267825,\n",
              " 163.88331692285823,\n",
              " 163.7330480394827,\n",
              " 163.60031839448058,\n",
              " 163.4347954847809,\n",
              " 163.29300030528407,\n",
              " 163.13228659683762,\n",
              " 162.96023936537324,\n",
              " 162.78487742733043,\n",
              " 162.61485677179547,\n",
              " 162.42600538781076]"
            ]
          },
          "metadata": {
            "tags": []
          },
          "execution_count": 21
        }
      ]
    },
    {
      "cell_type": "code",
      "metadata": {
        "id": "zZJZFpLc8q3N",
        "colab_type": "code",
        "colab": {
          "base_uri": "https://localhost:8080/",
          "height": 646
        },
        "outputId": "25ac4c10-14c9-4bfa-b39c-4affb9e5df20"
      },
      "source": [
        "plt.plot(train['Close'])\n",
        "plt.plot(valid[['Close','Predictions']])"
      ],
      "execution_count": 19,
      "outputs": [
        {
          "output_type": "execute_result",
          "data": {
            "text/plain": [
              "[<matplotlib.lines.Line2D at 0x7fc5a52c7ef0>,\n",
              " <matplotlib.lines.Line2D at 0x7fc5a52d4048>]"
            ]
          },
          "metadata": {
            "tags": []
          },
          "execution_count": 19
        },
        {
          "output_type": "display_data",
          "data": {
            "image/png": "[encoded data removed]",
            "text/plain": [
              "<Figure size 1440x720 with 1 Axes>"
            ]
          },
          "metadata": {
            "tags": []
          }
        }
      ]
    },
    {
      "cell_type": "code",
      "metadata": {
        "id": "i6K-e5jm-NyL",
        "colab_type": "code",
        "colab": {}
      },
      "source": [
        "#Linear reg\n",
        "df['Date'] = pd.to_datetime(df.Date,format = '%Y-%m-%d')\n",
        "df.index = df['Date']\n",
        "\n",
        "data = df.sort_index(ascending=True)\n"
      ],
      "execution_count": 0,
      "outputs": []
    }
  ]
}