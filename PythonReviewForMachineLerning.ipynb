{
 "cells": [
  {
   "cell_type": "markdown",
   "metadata": {},
   "source": [
    "### This is a review of python for later machine learning project"
   ]
  },
  {
   "cell_type": "markdown",
   "metadata": {},
   "source": [
    "### -numpy: to deal with array data or math"
   ]
  },
  {
   "cell_type": "code",
   "execution_count": 2,
   "metadata": {},
   "outputs": [
    {
     "name": "stdout",
     "output_type": "stream",
     "text": [
      "[1 2 3 4]\n",
      "['1' '2' '3' '4']\n",
      "[1. 2. 3. 4.]\n"
     ]
    }
   ],
   "source": [
    "#let us find out ndarray(numpy's array class)\n",
    "#it saves data in one data type np.[data type]\n",
    "import numpy as np\n",
    "\n",
    "sample = [1,2,3,4]\n",
    "\n",
    "arr1 = np.array(sample,np.int)\n",
    "print(arr1)\n",
    "\n",
    "arr2 = np.array(sample, np.str)\n",
    "print(arr2)\n",
    "\n",
    "arr3 = np.array(sample, np.float)\n",
    "print(arr3)"
   ]
  },
  {
   "cell_type": "code",
   "execution_count": 1,
   "metadata": {},
   "outputs": [
    {
     "name": "stdout",
     "output_type": "stream",
     "text": [
      "5\n",
      "dimension : 0\n",
      "[4 3 2 5]\n",
      "dimension : 1\n",
      "[[ 1  2  3  4]\n",
      " [ 3  4 23  1]]\n",
      "dimension : 2\n"
     ]
    }
   ],
   "source": [
    "#ndarray.ndim: what is dimension of array?\n",
    "import numpy as np\n",
    "\n",
    "arr = np.array(5)\n",
    "\n",
    "print(arr)\n",
    "print(\"dimension :\", arr.ndim)\n",
    "\n",
    "\n",
    "sample = [4,3,2,5]\n",
    "arr01 = np.array(sample)\n",
    "print(arr01)\n",
    "print(\"dimension :\",arr01.ndim)\n",
    "\n",
    "sample2 =[[1,2,3,4],[3,4,23,1]]\n",
    "arr02 = np.array(sample2)\n",
    "print(arr02)\n",
    "print(\"dimension :\",arr02.ndim)"
   ]
  },
  {
   "cell_type": "code",
   "execution_count": 3,
   "metadata": {},
   "outputs": [
    {
     "name": "stdout",
     "output_type": "stream",
     "text": [
      "shape:  (3, 2, 5)\n",
      "size:  30\n",
      "dtype:  int32\n"
     ]
    }
   ],
   "source": [
    "#ndarray.shape & ndarray.size & ndarray.dtype\n",
    "#shape: how an araay looks like? (n row m column)\n",
    "#size: how big an array? (n row x m column)\n",
    "#dtype: what an array consists of(data type)? e.g.,int32, int16, float64\n",
    "\n",
    "import numpy as np\n",
    "\n",
    "arr = np.zeros((3,2,5),dtype=np.int)\n",
    "print(\"shape: \", arr.shape)\n",
    "print(\"size: \", arr.size)\n",
    "print(\"dtype: \",arr.dtype)"
   ]
  },
  {
   "cell_type": "code",
   "execution_count": 3,
   "metadata": {},
   "outputs": [
    {
     "name": "stdout",
     "output_type": "stream",
     "text": [
      "origin: [1 2 3 4 5 6 7 8 9]\n",
      "changed: \n",
      "[[1 2 3]\n",
      " [4 5 6]\n",
      " [7 8 9]]\n"
     ]
    }
   ],
   "source": [
    "#reshape(): to change array's look with preserving data\n",
    "import numpy as np\n",
    "arr = np.array([1,2,3,4,5,6,7,8,9])\n",
    "print(\"origin:\",arr)\n",
    "arr01 = arr.reshape(3,3)\n",
    "print(\"changed: \")\n",
    "print(arr01)"
   ]
  },
  {
   "cell_type": "markdown",
   "metadata": {},
   "source": [
    "### -RANK\n",
    "#### for example:\n",
    "#### scalar == rank 0\n",
    "#### shape(3,) == rank 1 == vector\n",
    "#### shape(2,3) == rank 2 == matrix\n",
    "#### shape(4,3,1) == rank 3 and more == tensor"
   ]
  },
  {
   "cell_type": "code",
   "execution_count": 16,
   "metadata": {},
   "outputs": [
    {
     "name": "stdout",
     "output_type": "stream",
     "text": [
      "rank 0 Scalar =  483\n",
      "\n",
      "rank 1 Shape =  (3,)\n",
      "rank 1 items =  [1.1 2.2 3.3]\n",
      "\n",
      "rank 2 shape =  (2, 3)\n",
      "rank 2 items = \n",
      " [[1 2 3]\n",
      " [4 4 3]]\n",
      "\n",
      "rank 3 shape =  (4, 3, 1)\n",
      "rank 3 items = \n",
      " [[[2]\n",
      "  [2]\n",
      "  [3]]\n",
      "\n",
      " [[4]\n",
      "  [2]\n",
      "  [3]]\n",
      "\n",
      " [[2]\n",
      "  [2]\n",
      "  [2]]\n",
      "\n",
      " [[6]\n",
      "  [4]\n",
      "  [2]]]\n",
      "\n",
      "rank 3 shape =  (4, 3, 2)\n",
      "rank 3 items = \n",
      " [[[2 1]\n",
      "  [3 2]\n",
      "  [2 2]]\n",
      "\n",
      " [[3 4]\n",
      "  [1 2]\n",
      "  [5 6]]\n",
      "\n",
      " [[5 6]\n",
      "  [7 6]\n",
      "  [8 9]]\n",
      "\n",
      " [[4 3]\n",
      "  [2 2]\n",
      "  [4 6]]]\n"
     ]
    }
   ],
   "source": [
    "import numpy as np\n",
    "t = 483\n",
    "print(\"rank 0 Scalar = \", t)\n",
    "print(\"\")\n",
    "t = np.array([1.1,2.2,3.3])\n",
    "print(\"rank 1 Shape = \", t.shape)\n",
    "print(\"rank 1 items = \", t)\n",
    "print(\"\")\n",
    "t = np.array([[1,2,3],[4,4,3]])\n",
    "print(\"rank 2 shape = \", t.shape)\n",
    "print(\"rank 2 items = \\n\", t)\n",
    "print(\"\")\n",
    "t = np.array([[[2],[2],[3]],[[4],[2],[3]],[[2],[2],[2]],[[6],[4],[2]]])\n",
    "print(\"rank 3 shape = \", t.shape)\n",
    "print(\"rank 3 items = \\n\", t)\n",
    "print(\"\")\n",
    "t = np.array([[[2,1],[3,2],[2,2]],[[3,4],[1,2],[5,6]],[[5,6],[7,6],[8,9]],[[4,3],[2,2],[4,6]]])\n",
    "print(\"rank 3 shape = \", t.shape)\n",
    "print(\"rank 3 items = \\n\", t)"
   ]
  }
 ],
 "metadata": {
  "kernelspec": {
   "display_name": "Python 3.6 (tensorflow)",
   "language": "python",
   "name": "tensorflow"
  },
  "language_info": {
   "codemirror_mode": {
    "name": "ipython",
    "version": 3
   },
   "file_extension": ".py",
   "mimetype": "text/x-python",
   "name": "python",
   "nbconvert_exporter": "python",
   "pygments_lexer": "ipython3",
   "version": "3.6.8"
  }
 },
 "nbformat": 4,
 "nbformat_minor": 2
}
