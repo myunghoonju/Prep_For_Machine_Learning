{
 "cells": [
  {
   "cell_type": "markdown",
   "metadata": {},
   "source": [
    "### This is a review of python for later machine learning project"
   ]
  },
  {
   "cell_type": "markdown",
   "metadata": {},
   "source": [
    "### -numpy: to deal with array data or math"
   ]
  },
  {
   "cell_type": "code",
   "execution_count": 2,
   "metadata": {},
   "outputs": [
    {
     "name": "stdout",
     "output_type": "stream",
     "text": [
      "[1 2 3 4]\n",
      "['1' '2' '3' '4']\n",
      "[1. 2. 3. 4.]\n"
     ]
    }
   ],
   "source": [
    "#let us find out ndarray(numpy's array class)\n",
    "#it saves data in one data type np.[data type]\n",
    "import numpy as np\n",
    "\n",
    "sample = [1,2,3,4]\n",
    "\n",
    "arr1 = np.array(sample,np.int)\n",
    "print(arr1)\n",
    "\n",
    "arr2 = np.array(sample, np.str)\n",
    "print(arr2)\n",
    "\n",
    "arr3 = np.array(sample, np.float)\n",
    "print(arr3)"
   ]
  },
  {
   "cell_type": "code",
   "execution_count": 11,
   "metadata": {},
   "outputs": [
    {
     "name": "stdout",
     "output_type": "stream",
     "text": [
      "5\n",
      "0\n",
      "*****\n",
      "[4 3 2 5]\n",
      "1\n",
      "*****\n",
      "[[ 1  2  3  4]\n",
      " [ 3  4 23  1]]\n",
      "2\n"
     ]
    }
   ],
   "source": [
    "#ndarray.ndim: what is dimension of array?\n",
    "import numpy as np\n",
    "\n",
    "arr = np.array(5)\n",
    "\n",
    "print(arr)\n",
    "print(arr.ndim) # 0 dimension\n",
    "print(\"*\"*5)\n",
    "\n",
    "sample = [4,3,2,5]\n",
    "arr01 = np.array(sample)\n",
    "print(arr01)\n",
    "print(arr01.ndim)# 1 dimension\n",
    "print(\"*\"*5)\n",
    "\n",
    "sample2 =[[1,2,3,4],[3,4,23,1]]\n",
    "arr02 = np.array(sample2)\n",
    "print(arr02)\n",
    "print(arr02.ndim)# 2 dimension"
   ]
  },
  {
   "cell_type": "code",
   "execution_count": null,
   "metadata": {},
   "outputs": [],
   "source": []
  }
 ],
 "metadata": {
  "kernelspec": {
   "display_name": "Python 3.6 (tensorflow)",
   "language": "python",
   "name": "tensorflow"
  },
  "language_info": {
   "codemirror_mode": {
    "name": "ipython",
    "version": 3
   },
   "file_extension": ".py",
   "mimetype": "text/x-python",
   "name": "python",
   "nbconvert_exporter": "python",
   "pygments_lexer": "ipython3",
   "version": "3.6.8"
  }
 },
 "nbformat": 4,
 "nbformat_minor": 2
}
